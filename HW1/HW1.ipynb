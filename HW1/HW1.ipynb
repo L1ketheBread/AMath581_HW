{
 "cells": [
  {
   "cell_type": "markdown",
   "id": "d1d97515-0405-4759-9959-ab6cb70b135a",
   "metadata": {},
   "source": [
    "THIS HW IS COMPLETE AND SUBMITTED 12/12 Points on Attempt 2"
   ]
  },
  {
   "cell_type": "code",
   "execution_count": 45,
   "id": "f8be0eed-8b4a-433b-a316-a22e608d6638",
   "metadata": {},
   "outputs": [],
   "source": [
    "import numpy as np"
   ]
  },
  {
   "cell_type": "code",
   "execution_count": 189,
   "id": "88d841a2-4d8c-4332-b34f-edeeec23dc12",
   "metadata": {
    "editable": true,
    "slideshow": {
     "slide_type": ""
    },
    "tags": []
   },
   "outputs": [
    {
     "data": {
      "text/plain": [
       "array([-1.6       ,  3.19799514,  2.46440244,  1.2035359 ,  0.65020146,\n",
       "       -0.11692334, -0.66052349, -0.52192654, -0.56655274, -0.57074658,\n",
       "       -0.57078962, -0.57078962])"
      ]
     },
     "metadata": {},
     "output_type": "display_data"
    },
    {
     "data": {
      "text/plain": [
       "array([-0.55      , -0.625     , -0.5875    , -0.56875   , -0.578125  ,\n",
       "       -0.5734375 , -0.57109375, -0.56992188, -0.57050781, -0.57080078,\n",
       "       -0.5706543 , -0.57072754, -0.57076416, -0.57078247, -0.57079163,\n",
       "       -0.57078705, -0.57078934])"
      ]
     },
     "metadata": {},
     "output_type": "display_data"
    },
    {
     "data": {
      "text/plain": [
       "array([11, 17])"
      ]
     },
     "metadata": {},
     "output_type": "display_data"
    }
   ],
   "source": [
    "x = np.array([-1.6])\n",
    "\n",
    "for j in range (0, 1000):\n",
    "    fx = x[j]*np.sin(3*x[j]) - np.exp(x[j])\n",
    "    \n",
    "    x = np.append(x, x[j] - ((x[j]*np.sin(3*x[j]) - np.exp(x[j])) / ((3*x[j])*np.cos(3*x[j]) + np.sin(3*x[j]) - np.exp(x[j]))))\n",
    "    \n",
    "    if (abs(fx) < 1e-6):\n",
    "        break\n",
    "    \n",
    "    \n",
    "###\n",
    "\n",
    "x1 = -0.7 # fx1 is +\n",
    "x2 = -0.4 # fx2 -is -\n",
    "xm = np.array([])\n",
    "\n",
    "for k in range(0,100):\n",
    "    xc = (x1+x2)/2\n",
    "    xm = np.append(xm,[xc])\n",
    "    \n",
    "    fxc = xc*np.sin(3*xc) - np.exp(xc)\n",
    "\n",
    "    if (fxc < 0):\n",
    "        x2 = xc\n",
    "    else:\n",
    "        x1 = xc\n",
    "    \n",
    "    if (abs(fxc) < 1e-6):\n",
    "        break\n",
    "\n",
    "A1 = x\n",
    "A2 = xm\n",
    "A3 = np.array([j+1, xm.size])\n",
    "\n",
    "display(A1)\n",
    "display(A2)\n",
    "display(A3)\n",
    "\n",
    "np.save('A1.npy', A1)\n",
    "np.save('A2.npy', A2)\n",
    "np.save('A3.npy', A3)"
   ]
  },
  {
   "cell_type": "code",
   "execution_count": 191,
   "id": "3dc02bd6-dbcd-478b-9383-df51d0856b95",
   "metadata": {},
   "outputs": [
    {
     "name": "stdout",
     "output_type": "stream",
     "text": [
      "(2,)\n",
      "(2,)\n",
      "(2,)\n",
      "(3,)\n",
      "(3,)\n"
     ]
    }
   ],
   "source": [
    "A = np.array([[1,2], [-1,1]])\n",
    "B = np.array([[2,0],[0,2]])\n",
    "C = np.array([[2,0,-3],[0,0,-1]])\n",
    "D = np.array([[1,2],[2,3],[-1,0]])\n",
    "\n",
    "x = np.array([[1],[0]])\n",
    "y = np.array([[0],[1]])\n",
    "z = np.array([[1],[2], [-1]])\n",
    "\n",
    "A4 = A + B\n",
    "\n",
    "T5 = 3*x-4*y\n",
    "A5 = np.reshape(T5.T, ((T5.shape)[0], ))\n",
    "\n",
    "T6 = np.dot(A,x)\n",
    "A6 = np.reshape(T6.T, ((T6.shape)[0], ))\n",
    "\n",
    "T7 = np.dot(B ,(x-y))\n",
    "A7 = np.reshape(T7.T, ((T7.shape)[0], ))\n",
    "\n",
    "T8 = np.dot(D,x)\n",
    "A8 = np.reshape(T8.T, ((T8.shape)[0], ))\n",
    "\n",
    "T9 = np.dot(D,y) + z\n",
    "A9 = np.reshape(T9.T, ((T9.shape)[0], ))\n",
    "\n",
    "A10 = np.dot(A,B)\n",
    "A11 = np.dot(B,C)\n",
    "A12 = np.dot(C,D)\n",
    "\n",
    "print(A5.shape)\n",
    "print(A6.shape)\n",
    "print(A7.shape)\n",
    "print(A8.shape)\n",
    "print(A9.shape)\n",
    "\n",
    "np.save('A4.npy', A4)\n",
    "np.save('A5.npy', A5)\n",
    "np.save('A6.npy', A6)\n",
    "np.save('A7.npy', A7)\n",
    "np.save('A8.npy', A8)\n",
    "np.save('A9.npy', A9)\n",
    "np.save('A10.npy', A10)\n",
    "np.save('A11.npy', A11)\n",
    "np.save('A12.npy', A12)"
   ]
  }
 ],
 "metadata": {
  "kernelspec": {
   "display_name": "Python 3 (ipykernel)",
   "language": "python",
   "name": "python3"
  },
  "language_info": {
   "codemirror_mode": {
    "name": "ipython",
    "version": 3
   },
   "file_extension": ".py",
   "mimetype": "text/x-python",
   "name": "python",
   "nbconvert_exporter": "python",
   "pygments_lexer": "ipython3",
   "version": "3.12.4"
  }
 },
 "nbformat": 4,
 "nbformat_minor": 5
}

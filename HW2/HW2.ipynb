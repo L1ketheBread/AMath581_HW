{
 "cells": [
  {
   "cell_type": "markdown",
   "id": "440547b9-ed04-4f57-98c8-a6f1e96acad4",
   "metadata": {},
   "source": [
    "HW #2 in progress"
   ]
  },
  {
   "cell_type": "code",
   "execution_count": null,
   "id": "19e53ca1-83e4-488e-a129-f1f193ffa6a5",
   "metadata": {},
   "outputs": [],
   "source": [
    "import numpy as np\n",
    "import "
   ]
  }
 ],
 "metadata": {
  "kernelspec": {
   "display_name": "Python 3 (ipykernel)",
   "language": "python",
   "name": "python3"
  },
  "language_info": {
   "codemirror_mode": {
    "name": "ipython",
    "version": 3
   },
   "file_extension": ".py",
   "mimetype": "text/x-python",
   "name": "python",
   "nbconvert_exporter": "python",
   "pygments_lexer": "ipython3",
   "version": "3.12.4"
  }
 },
 "nbformat": 4,
 "nbformat_minor": 5
}

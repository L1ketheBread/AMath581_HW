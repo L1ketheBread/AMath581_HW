{
 "cells": [
  {
   "cell_type": "markdown",
   "id": "440547b9-ed04-4f57-98c8-a6f1e96acad4",
   "metadata": {},
   "source": [
    "HW #2 in progress"
   ]
  },
  {
   "cell_type": "code",
   "execution_count": 42,
   "id": "19e53ca1-83e4-488e-a129-f1f193ffa6a5",
   "metadata": {},
   "outputs": [],
   "source": [
    "import numpy as np\n",
    "import matplotlib.pyplot\n",
    "from scipy.integrate import odeint\n",
    "\n",
    "tol = 1e-4\n",
    "n0 = 100  # temp value copied from the text\n",
    "A = 1     # temp value copied from the text\n",
    "x0 = [0, A]  # temp value copied from the text\n",
    "xp = [-4,4]  # temp value copied from the text\n",
    "xshoot = np.linspace(xp[0], xp[1], num = 81) \n",
    "\n"
   ]
  },
  {
   "cell_type": "code",
   "execution_count": 38,
   "id": "c1618271-4d9a-4002-9591-d4fff8d745dc",
   "metadata": {},
   "outputs": [],
   "source": [
    "def shoot2():\n",
    "    return[]\n",
    "\n",
    "beta_start = n0\n",
    "\n",
    "for modes in range(1,6):\n",
    "    beta = beta_start\n",
    "    \n",
    "    for j in range(1000): #find the beta value \n",
    "\n",
    "\n",
    "    \n",
    "\n",
    "        \n",
    "    "
   ]
  }
 ],
 "metadata": {
  "kernelspec": {
   "display_name": "Python 3 (ipykernel)",
   "language": "python",
   "name": "python3"
  },
  "language_info": {
   "codemirror_mode": {
    "name": "ipython",
    "version": 3
   },
   "file_extension": ".py",
   "mimetype": "text/x-python",
   "name": "python",
   "nbconvert_exporter": "python",
   "pygments_lexer": "ipython3",
   "version": "3.12.4"
  }
 },
 "nbformat": 4,
 "nbformat_minor": 5
}

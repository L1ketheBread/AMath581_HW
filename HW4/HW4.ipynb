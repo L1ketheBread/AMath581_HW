{
 "cells": [
  {
   "cell_type": "markdown",
   "id": "ca741ff3-6bc4-4f77-ae11-ad9f00293c6c",
   "metadata": {},
   "source": [
    "HW4  complete 3/3"
   ]
  },
  {
   "cell_type": "code",
   "execution_count": 77,
   "id": "fe7f927b-5021-48f7-b9da-8e69a7521fa6",
   "metadata": {},
   "outputs": [
    {
     "data": {
      "text/plain": [
       "array([[ 0. ,  0.2,  0. , ...,  0. ,  0. ,  0. ],\n",
       "       [-0.2,  0. ,  0.2, ...,  0. ,  0. ,  0. ],\n",
       "       [ 0. , -0.2,  0. , ...,  0. ,  0. ,  0. ],\n",
       "       ...,\n",
       "       [ 0. ,  0. ,  0. , ...,  0. ,  0.2,  0. ],\n",
       "       [ 0. ,  0. ,  0. , ..., -0.2,  0. ,  0.2],\n",
       "       [ 0. ,  0. ,  0. , ...,  0. , -0.2,  0. ]])"
      ]
     },
     "metadata": {},
     "output_type": "display_data"
    },
    {
     "data": {
      "image/png": "[encoded data removed]",
      "text/plain": [
       "<Figure size 640x480 with 1 Axes>"
      ]
     },
     "metadata": {},
     "output_type": "display_data"
    }
   ],
   "source": [
    "import numpy as np\n",
    "import matplotlib.pyplot as plt\n",
    "from scipy.sparse import spdiags\n",
    "\n",
    "N = 9\n",
    "x = np.linspace(-10,10,N)   #N = 9 which coorelates to 8 m becuase she wraps  will remove the last value\n",
    "xspan = x[:-1]\n",
    "yspan = x[:-1]\n",
    "dx = xspan[1]-xspan[0]\n",
    "dy = yspan[1]-yspan[0]\n",
    "deltaSqr = dx**2\n",
    "\n",
    "m = N-1  # N value in x and y directions\n",
    "n = m * m  # total size of matrix\n",
    "\n",
    "e0 = np.zeros((n, 1))  # vector of zeros\n",
    "e1 = np.ones((n, 1))   # vector of ones\n",
    "e2 = np.copy(e1)    # copy the one vector\n",
    "e4 = np.copy(e0)    # copy the zero vector\n",
    "\n",
    "for j in range(1, m+1):\n",
    "    e2[m*j-1] = 0  # overwrite every m^th value with zero\n",
    "    e4[m*j-1] = 1  # overwirte every m^th value with one\n",
    "\n",
    "# Shift to correct positions\n",
    "e3 = np.zeros_like(e2)\n",
    "e3[1:n] = e2[0:n-1]\n",
    "e3[0] = e2[n-1]\n",
    "\n",
    "e5 = np.zeros_like(e4)\n",
    "e5[1:n] = e4[0:n-1]\n",
    "e5[0] = e4[n-1]\n",
    "\n",
    "# Creating A\n",
    "diagonalsA = [e1.flatten(), e1.flatten(), e5.flatten(), e2.flatten(), -4 * e1.flatten(), e3.flatten(), e4.flatten(), e1.flatten(), e1.flatten()]\n",
    "offsetsA = [-(n-m), -m, -m+1, -1, 0, 1, m-1, m, (n-m)]\n",
    "matA = spdiags(diagonalsA, offsetsA, n, n) * (1/deltaSqr)\n",
    "A1 = matA.toarray()\n",
    "#Creating B\n",
    "diagonalsB = [e1.flatten(), -1*e1.flatten(),  e1.flatten(), -1*e1.flatten()]\n",
    "offsetsB = [-(n-m),-m,m,(n-m)]\n",
    "matB = spdiags(diagonalsB, offsetsB, n, n) * (1/(2*dx))\n",
    "A2 = matB.toarray()\n",
    "#Creating C\n",
    "diagonalsC = [e5.flatten(), -1* e2.flatten(), e3.flatten(),-1*e4.flatten()]\n",
    "offsetsC = [-m+1, -1, 1, m-1]\n",
    "matC = spdiags(diagonalsC, offsetsC, n, n) * (1/(2*dy))\n",
    "A3 = matC.toarray()\n",
    "\n",
    "# Plot matrix structure\n",
    "display(A3)\n",
    "plt.figure(5)\n",
    "plt.spy(matC)\n",
    "plt.title('Matrix Structure')\n",
    "plt.show()\n",
    "\n",
    "#########################HW5##########################\n",
    "\n",
    "\n"
   ]
  }
 ],
 "metadata": {
  "kernelspec": {
   "display_name": "Python 3 (ipykernel)",
   "language": "python",
   "name": "python3"
  },
  "language_info": {
   "codemirror_mode": {
    "name": "ipython",
    "version": 3
   },
   "file_extension": ".py",
   "mimetype": "text/x-python",
   "name": "python",
   "nbconvert_exporter": "python",
   "pygments_lexer": "ipython3",
   "version": "3.12.4"
  }
 },
 "nbformat": 4,
 "nbformat_minor": 5
}
